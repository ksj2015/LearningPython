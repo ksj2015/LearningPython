{
 "cells": [
  {
   "cell_type": "markdown",
   "metadata": {},
   "source": [
    "# 使用python处理缺失值"
   ]
  },
  {
   "cell_type": "markdown",
   "metadata": {},
   "source": [
    "# pd中关于缺失值处理有四个函数：dropna\\fillna\\isnull\\notnull\n",
    "1.dropna是用来删除缺失数据的\n",
    "\n",
    "2.fillna是用一定的规则来替换缺失数据\n",
    "\n",
    "3.ilnull和notnull是用来认定缺失数据"
   ]
  },
  {
   "cell_type": "markdown",
   "metadata": {},
   "source": [
    "# 认定一个数据中是否存在缺失值\n",
    "* data.isnull()\n",
    "\n",
    "* data.notnull()\n",
    "#返回bool值\n"
   ]
  },
  {
   "cell_type": "markdown",
   "metadata": {},
   "source": [
    "# 删除一个缺失值的方法dropna\n",
    "DataFrame.dropna(axis=0, how='any', thresh=None, subset=None, inplace=False)\n"
   ]
  },
  {
   "cell_type": "markdown",
   "metadata": {},
   "source": [
    "可选参数\n",
    "how : {‘any’, ‘all’}\n",
    "\n",
    "\t* any : if any NA values are present, drop that label\n",
    "\t* all : if all values are NA, drop that label\n",
    "\n",
    "thresh : int, default None\n",
    "int value : require that many non-NA values\n",
    "\n",
    "Keep only the rows with at least 2 non-na values\n",
    "df.dropna(thresh=2) 如果某行的缺失值大于两个，就会被删除"
   ]
  },
  {
   "cell_type": "markdown",
   "metadata": {},
   "source": [
    "# 用一定的规则来替换缺失数据fillna"
   ]
  },
  {
   "cell_type": "markdown",
   "metadata": {},
   "source": [
    "DataFrame.fillna(value=None, method=None, axis=None, inplace=False, limit=None, downcast=None, **kwargs)\n",
    "\n",
    "\n",
    "可选参数\n",
    "1. value  即用某个值来替代缺失值\n",
    "例如:\n",
    "用0替换缺失值，使用data.fillna(0)\n",
    "用均值替换缺失值，使用data.fillna(data.mean())\n",
    "2. method 使用某种方法（规则）来替换缺失值\n",
    "用前一个数据代替NaN：method='pad'\n",
    "与pad相反，bfill表示用后一个数据代替NaN\n",
    "data.fillna(method='pad')\n",
    "\n",
    "3. axis 可以调整是按行补差还是按列补差\n",
    "axis : {0 or ‘index’, 1 or ‘columns’}\n",
    "df.fillna(method='bfill',axis=1)\n",
    "\n",
    "4. inplace=False 是不替换原始数据，默认不替换\n",
    "inplace=True 是直接替换原始数据 ##不建议这么干，原始数据就没了\n",
    "\n",
    "5. limit，用limit限制每列可以替代NaN的数目，下面我们限制每列只能替代一个NaN\n",
    "df.fillna(method='bfill',axis=1,limit=1)\n",
    "我们还可以选择哪一列进行缺失值的处理\n",
    "\n",
    "data.fillna(method='pad'[1:2])"
   ]
  },
  {
   "cell_type": "code",
   "execution_count": null,
   "metadata": {},
   "outputs": [],
   "source": []
  }
 ],
 "metadata": {
  "kernelspec": {
   "display_name": "Python [conda env:Anaconda3]",
   "language": "python",
   "name": "conda-env-Anaconda3-py"
  },
  "language_info": {
   "codemirror_mode": {
    "name": "ipython",
    "version": 3
   },
   "file_extension": ".py",
   "mimetype": "text/x-python",
   "name": "python",
   "nbconvert_exporter": "python",
   "pygments_lexer": "ipython3",
   "version": "3.6.3"
  }
 },
 "nbformat": 4,
 "nbformat_minor": 2
}
