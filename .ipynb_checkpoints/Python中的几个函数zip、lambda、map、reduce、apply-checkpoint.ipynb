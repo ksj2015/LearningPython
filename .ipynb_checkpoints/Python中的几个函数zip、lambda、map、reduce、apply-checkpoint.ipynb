{
 "cells": [
  {
   "cell_type": "markdown",
   "metadata": {},
   "source": [
    "# Python\n",
    "## 一、zip\n",
    "### 简介\n",
    "**`zip`()是Python的一个内建函数，它接受一系列可迭代的对象作为参数，将对象中对应的元素打包成一个个tuple（元组），然后返回由这些tuples组成的list（列表）。若传入参数的长度不等，则返回list的长度和参数中长度最短的对象相同。利用*号操作符，可以将list unzip（解压），看下面的例子就明白了：**"
   ]
  },
  {
   "cell_type": "code",
   "execution_count": 5,
   "metadata": {},
   "outputs": [
    {
     "name": "stdout",
     "output_type": "stream",
     "text": [
      "[(1, 4), (2, 5), (3, 6)]\n"
     ]
    }
   ],
   "source": [
    "a = [1,2,3]\n",
    "b = [4,5,6]\n",
    "c = [4,5,6,7,8]\n",
    "zipped = zip(a,b)\n",
    "print(list(zipped))  #需要加list来可视化这个功能"
   ]
  },
  {
   "cell_type": "code",
   "execution_count": 13,
   "metadata": {},
   "outputs": [
    {
     "name": "stdout",
     "output_type": "stream",
     "text": [
      "[(1, 4, 7), (2, 5, 8), (3, 6, 9)]\n"
     ]
    }
   ],
   "source": [
    "#实现a的行列互换\n",
    "a = [[1, 2, 3], [4, 5, 6], [7, 8, 9]]\n",
    "print(list(zip(*a)))"
   ]
  },
  {
   "cell_type": "code",
   "execution_count": 16,
   "metadata": {},
   "outputs": [
    {
     "name": "stdout",
     "output_type": "stream",
     "text": [
      "[[1, 4, 7], [2, 5, 8], [3, 6, 9]]\n"
     ]
    }
   ],
   "source": [
    "print(list(map(list,zip(*a))))"
   ]
  },
  {
   "cell_type": "markdown",
   "metadata": {},
   "source": [
    "### 用法一：循环\n",
    "*我们要同时遍历a、b，且要对它们进行操作，那就要放在同一个for循环内，zip函数正好合适*"
   ]
  },
  {
   "cell_type": "code",
   "execution_count": 18,
   "metadata": {},
   "outputs": [
    {
     "name": "stdout",
     "output_type": "stream",
     "text": [
      "[(1, 4), (2, 5), (3, 6)]\n",
      "1 4\n",
      "0.5 8\n",
      "2 5\n",
      "1.0 10\n",
      "3 6\n",
      "1.5 12\n"
     ]
    }
   ],
   "source": [
    "\n",
    "a=[1,2,3]\n",
    "b=[4,5,6]\n",
    "ab=zip(a,b)\n",
    "print(list(ab))\n",
    "for i,j in zip(a,b):\n",
    "     print(i,j)\n",
    "     print(i/2,j*2)"
   ]
  },
  {
   "cell_type": "markdown",
   "metadata": {},
   "source": [
    "### 用法二：创建键值对应\n",
    "*用zip创建键值对，zip方法返回的是一个元组，用它来创建键值对，简单明了*"
   ]
  },
  {
   "cell_type": "code",
   "execution_count": 21,
   "metadata": {},
   "outputs": [
    {
     "name": "stdout",
     "output_type": "stream",
     "text": [
      "{'name': 'Tim', 'sex': 'man', 'age': 14}\n"
     ]
    }
   ],
   "source": [
    "keys = ['name','sex','age']\n",
    "value = ['Tim','man',14]\n",
    "dic = dict(zip(keys,value))\n",
    "print(dic)"
   ]
  },
  {
   "cell_type": "markdown",
   "metadata": {},
   "source": [
    "## 二、lambda\n",
    "### 简介\n",
    "**`lambda`定义一个简单的函数，实现简化代码的功能，看代码会更好理解,`lambda`匿名函数的格式：冒号前是参数，可以有多个，用逗号隔开，冒号右边的为表达式**"
   ]
  },
  {
   "cell_type": "code",
   "execution_count": 27,
   "metadata": {},
   "outputs": [
    {
     "name": "stdout",
     "output_type": "stream",
     "text": [
      "3\n"
     ]
    }
   ],
   "source": [
    "def f_sum(x,y):\n",
    "    return x+y\n",
    "c = f_sum(1,2)\n",
    "print(c)"
   ]
  },
  {
   "cell_type": "code",
   "execution_count": 29,
   "metadata": {},
   "outputs": [
    {
     "name": "stdout",
     "output_type": "stream",
     "text": [
      "3\n"
     ]
    }
   ],
   "source": [
    "c = lambda x,y : x+y\n",
    "print(c(1,2))"
   ]
  },
  {
   "cell_type": "markdown",
   "metadata": {},
   "source": [
    "## 三、map\n",
    "### 简介\n",
    "**map是把函数和参数绑定在一起，对一个及多个序列执行同一个操作，返回一个列表**\n",
    "本身语法的结构是:`map(function, sequence[, sequence, ...])`"
   ]
  },
  {
   "cell_type": "code",
   "execution_count": 30,
   "metadata": {},
   "outputs": [
    {
     "data": {
      "text/plain": [
       "[3]"
      ]
     },
     "execution_count": 30,
     "metadata": {},
     "output_type": "execute_result"
    }
   ],
   "source": [
    "def fun(x,y):\n",
    "\treturn (x+y)\n",
    "list(map(fun,[1],[2]))"
   ]
  },
  {
   "cell_type": "code",
   "execution_count": 31,
   "metadata": {},
   "outputs": [
    {
     "data": {
      "text/plain": [
       "[4, 6]"
      ]
     },
     "execution_count": 31,
     "metadata": {},
     "output_type": "execute_result"
    }
   ],
   "source": [
    "list(map(fun,[1,2],[3,4]))"
   ]
  },
  {
   "cell_type": "code",
   "execution_count": 35,
   "metadata": {},
   "outputs": [
    {
     "name": "stdout",
     "output_type": "stream",
     "text": [
      "[2, 3, 4, 5]\n"
     ]
    }
   ],
   "source": [
    "##实现对a中所有元素都加一\n",
    "a = [1,2,3,4]\n",
    "b = map(lambda x: x+1,a)\n",
    "print(list(b))"
   ]
  },
  {
   "cell_type": "code",
   "execution_count": 36,
   "metadata": {},
   "outputs": [
    {
     "name": "stdout",
     "output_type": "stream",
     "text": [
      "[11, 22, 33, 44]\n"
     ]
    }
   ],
   "source": [
    "print(list(map(lambda x,y: x+y,[1,2,3,4],(10,20,30,40))))"
   ]
  },
  {
   "cell_type": "code",
   "execution_count": 39,
   "metadata": {},
   "outputs": [
    {
     "name": "stdout",
     "output_type": "stream",
     "text": [
      "1.0 [1, 2, 3, 4, 5]\n",
      "2.0 [1, 2, 3, 4, 5]\n",
      "3.0 [1, 2, 3, 4, 5]\n",
      "4.0 [1, 2, 3, 4, 5]\n",
      "5.0 [1, 2, 3, 4, 5]\n",
      "[None, None, None, None, None]\n"
     ]
    }
   ],
   "source": [
    "foos = [1.0,2.0,3.0,4.0,5.0]  \n",
    "bars = [1,2,3,4,5] \n",
    "def test(foo):  \n",
    "    print (foo,bars)\n",
    "print(list(map(test,foos)))  "
   ]
  },
  {
   "cell_type": "markdown",
   "metadata": {},
   "source": [
    "## 四、reduce\n",
    "### 简介\n",
    "**func为二元函数，将func作用于seq序列的元素，每次携带一对（先前的结果以及下一个序列的元素），连续的将现有的结果和下一个值作用在获得的随后的结果上，最后减少我们的序列为一个单一的返回值**\n",
    "`reduce(function, sequence[, initial]) -> value`"
   ]
  },
  {
   "cell_type": "code",
   "execution_count": 41,
   "metadata": {},
   "outputs": [
    {
     "data": {
      "text/plain": [
       "113"
      ]
     },
     "execution_count": 41,
     "metadata": {},
     "output_type": "execute_result"
    }
   ],
   "source": [
    "from functools import reduce\n",
    "reduce(lambda x,y: x+y, [47,11,42,13])"
   ]
  },
  {
   "cell_type": "markdown",
   "metadata": {},
   "source": [
    "## 五、apply\n",
    "### 简介\n",
    "**函数用于当函数参数已经存在于一个元组或字典中时，间接地调用函数。args是一个包含将要提供给函数的按位置传递的参数的元组。如果省略了args，任 何参数都不会被传递，kwargs是一个包含关键字参数的字典。apply()的返回值就是func()的返回值，apply()的元素参数是有序的，元素的顺序必须和func()形式参数的顺序一致** \n",
    "\n",
    "`apply(func [, args [, kwargs ]]) `"
   ]
  },
  {
   "cell_type": "markdown",
   "metadata": {},
   "source": [
    "+ 例如取某个Dataframe中`a`列的前六位，并生成新的一列`b`"
   ]
  },
  {
   "cell_type": "code",
   "execution_count": null,
   "metadata": {},
   "outputs": [],
   "source": [
    "df[‘b’] = df[‘a’].apply(lambda x:x[0:6])\n",
    "##例如取某个Dataframe中zcmc列的是否包含apple，并生成新的一列num来标识\n",
    "df['num']=df['zcmc'].apply(lambda x: 1 if 'apple' in x else 0)"
   ]
  }
 ],
 "metadata": {
  "kernelspec": {
   "display_name": "Python [conda env:Anaconda3]",
   "language": "python",
   "name": "conda-env-Anaconda3-py"
  },
  "language_info": {
   "codemirror_mode": {
    "name": "ipython",
    "version": 3
   },
   "file_extension": ".py",
   "mimetype": "text/x-python",
   "name": "python",
   "nbconvert_exporter": "python",
   "pygments_lexer": "ipython3",
   "version": "3.6.3"
  }
 },
 "nbformat": 4,
 "nbformat_minor": 2
}
