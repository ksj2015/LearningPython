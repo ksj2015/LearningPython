{
 "cells": [
  {
   "cell_type": "markdown",
   "metadata": {},
   "source": [
    "# Python中的类：class"
   ]
  },
  {
   "cell_type": "markdown",
   "metadata": {},
   "source": [
    "## 什么是类？\n",
    "**在Python中，定义类是通过class关键字，可以进行封装等一系列操作**"
   ]
  },
  {
   "cell_type": "markdown",
   "metadata": {},
   "source": [
    "## 类的创建和使用\n",
    "**"
   ]
  },
  {
   "cell_type": "code",
   "execution_count": 6,
   "metadata": {},
   "outputs": [],
   "source": [
    "class Calculator:       #首字母要大写，冒号不能缺\n",
    "    name='Good Calculator'  #该行为class的属性\n",
    "    price=18\n",
    "    def add(self,x,y):\n",
    "        print(self.name)\n",
    "        result = x + y\n",
    "        print(result)\n",
    "    def minus(self,x,y):\n",
    "        result=x-y\n",
    "        print(result)\n",
    "    def times(self,x,y):\n",
    "        print(x*y)\n",
    "    def divide(self,x,y):\n",
    "        print(x/y)"
   ]
  },
  {
   "cell_type": "code",
   "execution_count": 8,
   "metadata": {},
   "outputs": [
    {
     "data": {
      "text/plain": [
       "'Good Calculator'"
      ]
     },
     "execution_count": 8,
     "metadata": {},
     "output_type": "execute_result"
    }
   ],
   "source": [
    "cal = Calculator()\n",
    "cal.name"
   ]
  },
  {
   "cell_type": "code",
   "execution_count": 10,
   "metadata": {},
   "outputs": [
    {
     "data": {
      "text/plain": [
       "18"
      ]
     },
     "execution_count": 10,
     "metadata": {},
     "output_type": "execute_result"
    }
   ],
   "source": [
    "cal.price"
   ]
  },
  {
   "cell_type": "code",
   "execution_count": 12,
   "metadata": {},
   "outputs": [
    {
     "name": "stdout",
     "output_type": "stream",
     "text": [
      "Good Calculator\n",
      "30\n"
     ]
    }
   ],
   "source": [
    "cal.add(10,20)"
   ]
  },
  {
   "cell_type": "code",
   "execution_count": 15,
   "metadata": {},
   "outputs": [],
   "source": [
    "class Calculator:\n",
    "    name='good calculator'\n",
    "    price=18\n",
    "    def __init__(self,name,price,height=10,width=14,weight=16): #后面三个属性设置默认值,查看运行是双下划线\n",
    "        self.name=name\n",
    "        self.price=price\n",
    "        self.h=height\n",
    "        self.wi=width\n",
    "        self.we=weight"
   ]
  },
  {
   "cell_type": "code",
   "execution_count": 16,
   "metadata": {},
   "outputs": [
    {
     "data": {
      "text/plain": [
       "14"
      ]
     },
     "execution_count": 16,
     "metadata": {},
     "output_type": "execute_result"
    }
   ],
   "source": [
    "c=Calculator('bad calculator',18)\n",
    "c.wi"
   ]
  },
  {
   "cell_type": "code",
   "execution_count": null,
   "metadata": {},
   "outputs": [],
   "source": []
  }
 ],
 "metadata": {
  "kernelspec": {
   "display_name": "Python [conda env:Anaconda3]",
   "language": "python",
   "name": "conda-env-Anaconda3-py"
  },
  "language_info": {
   "codemirror_mode": {
    "name": "ipython",
    "version": 3
   },
   "file_extension": ".py",
   "mimetype": "text/x-python",
   "name": "python",
   "nbconvert_exporter": "python",
   "pygments_lexer": "ipython3",
   "version": "3.6.3"
  }
 },
 "nbformat": 4,
 "nbformat_minor": 2
}
