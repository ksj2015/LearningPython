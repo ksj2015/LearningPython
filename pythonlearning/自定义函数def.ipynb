{
 "cells": [
  {
   "cell_type": "markdown",
   "metadata": {},
   "source": [
    "# Python中的自定义函数def\n",
    "## 基本语法\n",
    "~~~\n",
    "def function_name(parameters):\n",
    "    expressions\n",
    "~~~\n",
    "在python中使用关键字def开始函数定义，紧接着<font color=#00ffff>function_name</font>是函数名，扩号内部parameters为函数的参数，<font color=#0099ff>expressions</font>内部为函数的具体功能实现代码，如果想要函数有返回值，在expressions中的逻辑代码中用return返回\n",
    "## 举个例子"
   ]
  },
  {
   "cell_type": "code",
   "execution_count": 2,
   "metadata": {},
   "outputs": [],
   "source": [
    "def greet(username):\n",
    "    print(\"Hello~\"+username.title()+\"!\")"
   ]
  },
  {
   "cell_type": "code",
   "execution_count": 3,
   "metadata": {},
   "outputs": [
    {
     "name": "stdout",
     "output_type": "stream",
     "text": [
      "Hello~Chriswu!\n"
     ]
    }
   ],
   "source": [
    "greet(\"ChrisWu\")"
   ]
  },
  {
   "cell_type": "markdown",
   "metadata": {},
   "source": [
    "## Return的使用\n",
    "函数并非总是直接显示输出，相反它可以处理一些数据，并返回一个数值，一个字符串，一个布尔值或者一个列表。函数返回的值被称为返回值。\n",
    "1. return语句是可选的，它可以在函数体内任何地方出现，表示函数调用执行到此结束，并将值返回到调用函数的代码行；\n",
    "2. 如果没有return语句，会自动返回None，\n",
    "3. 如果有return语句，但是return后面没有接表达式或者值的话也是返回None。下面来看几个例子："
   ]
  },
  {
   "cell_type": "code",
   "execution_count": 4,
   "metadata": {},
   "outputs": [],
   "source": [
    "def sum(a,b):\n",
    "    print(a+b)"
   ]
  },
  {
   "cell_type": "code",
   "execution_count": 7,
   "metadata": {},
   "outputs": [
    {
     "name": "stdout",
     "output_type": "stream",
     "text": [
      "5\n"
     ]
    },
    {
     "data": {
      "text/plain": [
       "True"
      ]
     },
     "execution_count": 7,
     "metadata": {},
     "output_type": "execute_result"
    }
   ],
   "source": [
    "result = sum(2,3)\n",
    "result is None"
   ]
  },
  {
   "cell_type": "code",
   "execution_count": 8,
   "metadata": {},
   "outputs": [
    {
     "name": "stdout",
     "output_type": "stream",
     "text": [
      "5\n"
     ]
    },
    {
     "data": {
      "text/plain": [
       "True"
      ]
     },
     "execution_count": 8,
     "metadata": {},
     "output_type": "execute_result"
    }
   ],
   "source": [
    "def sum(a,b):\n",
    "    print(a+b)    \n",
    "    return\n",
    "result = sum(2,3)\n",
    "result is None"
   ]
  },
  {
   "cell_type": "code",
   "execution_count": 9,
   "metadata": {},
   "outputs": [
    {
     "data": {
      "text/plain": [
       "False"
      ]
     },
     "execution_count": 9,
     "metadata": {},
     "output_type": "execute_result"
    }
   ],
   "source": [
    "def sum(a,b):\n",
    "    return (a+b)\n",
    "result = sum(2,3)\n",
    "result is None"
   ]
  },
  {
   "cell_type": "markdown",
   "metadata": {},
   "source": [
    "## 举个例子：斐波那契数列函数的构造\n",
    " 斐波那契数列指的是这样一个数列：0, 1, 1, 2, 3, 5, 8, 13,……该数列的规律是：第0项是0，第1项是第一个1。从第三项开始，每一项都等于前两项之和。下面我们来学习如何在Python中实现斐波那契数列。"
   ]
  },
  {
   "cell_type": "code",
   "execution_count": 10,
   "metadata": {},
   "outputs": [],
   "source": [
    "def Fibonacci(n):\n",
    "    if n<= 0 :        \n",
    "        return 0\n",
    "    elif n == 1:       \n",
    "         return 1\n",
    "    else:        \n",
    "         return Fibonacci(n-1) + Fibonacci(n-2)"
   ]
  },
  {
   "cell_type": "code",
   "execution_count": 12,
   "metadata": {},
   "outputs": [
    {
     "data": {
      "text/plain": [
       "8"
      ]
     },
     "execution_count": 12,
     "metadata": {},
     "output_type": "execute_result"
    }
   ],
   "source": [
    "Fibonacci(6)"
   ]
  },
  {
   "cell_type": "markdown",
   "metadata": {},
   "source": [
    "# 进阶：Python中的自定义函数中参数的说明\n",
    "函数定义中有多少种形参，那么在函数调用中就有多少种实参，向函数传递实参的方式主要有以下几种：\n",
    "1. 位置参数/必备参数；\n",
    "2. 缺省参数/默认参数；\n",
    "3. 关键字参数；\n",
    "4. 可变参数/不定长参数\n",
    "\n",
    "\n",
    "## 位置参数\n",
    "位置参数（又称必备参数）须以正确的顺序传入函数，调用时的数量必须和声明时的一样，函数调用时每一个实参都关联到函数定义中的一个参数，下面我们通过一个例子来更好的理解位置参数："
   ]
  },
  {
   "cell_type": "code",
   "execution_count": 16,
   "metadata": {},
   "outputs": [],
   "source": [
    "def index(m,n):\n",
    "    s = 1\n",
    "    while n>0:\n",
    "        n = n-1\n",
    "        s = s*m\n",
    "    return s"
   ]
  },
  {
   "cell_type": "code",
   "execution_count": 14,
   "metadata": {},
   "outputs": [
    {
     "data": {
      "text/plain": [
       "125"
      ]
     },
     "execution_count": 14,
     "metadata": {},
     "output_type": "execute_result"
    }
   ],
   "source": [
    "index(5,3) "
   ]
  },
  {
   "cell_type": "code",
   "execution_count": 15,
   "metadata": {},
   "outputs": [
    {
     "data": {
      "text/plain": [
       "243"
      ]
     },
     "execution_count": 15,
     "metadata": {},
     "output_type": "execute_result"
    }
   ],
   "source": [
    "index(3,5)"
   ]
  },
  {
   "cell_type": "markdown",
   "metadata": {},
   "source": [
    "**说明**：在这里我们定义了函数index，用来计算任意数的n次方，参数m和n都是位置参数，调用函数时，传入的两个值按照位置顺序依次赋给参数m和n。比如计算5的3次方，必须是index(5,3)而不是index(3,5)。"
   ]
  },
  {
   "cell_type": "markdown",
   "metadata": {},
   "source": [
    "## 默认参数\n",
    "默认参数（也称为缺省参数），当某个参数使用次数比较多时，我们可以把参数的值给定，这是不特别指定该参数时，直接使用默认值"
   ]
  },
  {
   "cell_type": "code",
   "execution_count": 17,
   "metadata": {},
   "outputs": [],
   "source": [
    "def index(m,n=2):\n",
    "    s = 1\n",
    "    while n>0:\n",
    "        n = n-1\n",
    "        s = s*m\n",
    "    return s "
   ]
  },
  {
   "cell_type": "code",
   "execution_count": 19,
   "metadata": {},
   "outputs": [
    {
     "data": {
      "text/plain": [
       "25"
      ]
     },
     "execution_count": 19,
     "metadata": {},
     "output_type": "execute_result"
    }
   ],
   "source": [
    "index(5)"
   ]
  },
  {
   "cell_type": "code",
   "execution_count": 20,
   "metadata": {},
   "outputs": [
    {
     "data": {
      "text/plain": [
       "125"
      ]
     },
     "execution_count": 20,
     "metadata": {},
     "output_type": "execute_result"
    }
   ],
   "source": [
    "index(5,3)"
   ]
  },
  {
   "cell_type": "markdown",
   "metadata": {},
   "source": [
    "## 关键字参数\n",
    "关键字参数是传递给函数的名称-值对，它允许我们传入0个或任意个包含参数名的参数，它直接将参数中形参的名称和实参的值关联起来了，因此允许函数调用时参数的顺序与定义时不一致，下面的例子将帮助我们理解关键字参数："
   ]
  },
  {
   "cell_type": "code",
   "execution_count": 26,
   "metadata": {},
   "outputs": [],
   "source": [
    "def info(name,age):\n",
    "    print(\"\\nMy name is \" + name.title()) #.title（）函数的作用是把首字母变成大写\n",
    "    print(\"I'm \" + age.title() + \" years old\")"
   ]
  },
  {
   "cell_type": "code",
   "execution_count": 27,
   "metadata": {},
   "outputs": [
    {
     "name": "stdout",
     "output_type": "stream",
     "text": [
      "\n",
      "My name is Chenshuo\n",
      "I'm 25 years old\n",
      "\n",
      "My name is Chenshuo\n",
      "I'm 25 years old\n",
      "\n",
      "My name is Chenshuo\n",
      "I'm 25 years old\n"
     ]
    }
   ],
   "source": [
    "info(name = 'Chenshuo',age = '25')\n",
    "info(age = '25',name = 'Chenshuo')\n",
    "info('chenshuo','25')"
   ]
  },
  {
   "cell_type": "markdown",
   "metadata": {},
   "source": [
    "### **kw\n",
    "以上只是关键字参数的基础用法，前面曾经提到过关键字参数允许我们传入任意个含参数名的参数，这些关键字参数在函数内部自动组装为一个字典，请看下例：\n",
    "~~~\n",
    "**kw #含义为关键字参数\n",
    "~~~\n",
    "定义函数时在参数kw前加上两个**，表示kw为关键字参数，这样一来我们不仅可以只传入位置参数，还可以传入任意个数的关键字参数"
   ]
  },
  {
   "cell_type": "code",
   "execution_count": 28,
   "metadata": {},
   "outputs": [],
   "source": [
    "def info(name,age,**kw):\n",
    "     print(\"\\nMy name is \" + name.title())\n",
    "     print(\"I'm \" + age.title() + \" years old\")\n",
    "     print(kw)"
   ]
  },
  {
   "cell_type": "code",
   "execution_count": 30,
   "metadata": {},
   "outputs": [
    {
     "name": "stdout",
     "output_type": "stream",
     "text": [
      "\n",
      "My name is Chenshuo\n",
      "I'm 25 years old\n",
      "{}\n"
     ]
    }
   ],
   "source": [
    "info(\"Chenshuo\",\"25\")"
   ]
  },
  {
   "cell_type": "code",
   "execution_count": 31,
   "metadata": {},
   "outputs": [
    {
     "name": "stdout",
     "output_type": "stream",
     "text": [
      "\n",
      "My name is Chenshuo\n",
      "I'm 25 years old\n",
      "{'city': 'Hefei', 'sex': 'male'}\n"
     ]
    }
   ],
   "source": [
    "info(\"Chenshuo\",\"25\",city=\"Hefei\",sex=\"male\")"
   ]
  },
  {
   "cell_type": "markdown",
   "metadata": {},
   "source": [
    "### *\n",
    "和关键字参数前加**不同，命名关键字参数使用的是*，*后面的参数被视为命名关键字参数，可以限制接受哪些特定的关键字参数\n",
    "~~~\n",
    "* #含义为命名关键字参数\n",
    "~~~"
   ]
  },
  {
   "cell_type": "code",
   "execution_count": 32,
   "metadata": {},
   "outputs": [],
   "source": [
    "def info(name,age,*,city,sex):\n",
    "    print(name,age,city,sex)"
   ]
  },
  {
   "cell_type": "code",
   "execution_count": 33,
   "metadata": {},
   "outputs": [
    {
     "name": "stdout",
     "output_type": "stream",
     "text": [
      "Chenshuo 25 Hefei male\n"
     ]
    }
   ],
   "source": [
    "info(\"Chenshuo\",\"25\",city=\"Hefei\",sex=\"male\")"
   ]
  },
  {
   "cell_type": "markdown",
   "metadata": {},
   "source": [
    "**如果你试图传入非命名关键字参数，调用时则会报错：**"
   ]
  },
  {
   "cell_type": "code",
   "execution_count": 34,
   "metadata": {},
   "outputs": [
    {
     "ename": "TypeError",
     "evalue": "info() got an unexpected keyword argument 'job'",
     "output_type": "error",
     "traceback": [
      "\u001b[0;31m---------------------------------------------------------------------------\u001b[0m",
      "\u001b[0;31mTypeError\u001b[0m                                 Traceback (most recent call last)",
      "\u001b[0;32m<ipython-input-34-cca96e2ddeba>\u001b[0m in \u001b[0;36m<module>\u001b[0;34m()\u001b[0m\n\u001b[0;32m----> 1\u001b[0;31m \u001b[0minfo\u001b[0m\u001b[0;34m(\u001b[0m\u001b[0;34m\"Chenshuo\"\u001b[0m\u001b[0;34m,\u001b[0m\u001b[0;34m\"25\"\u001b[0m\u001b[0;34m,\u001b[0m\u001b[0mcity\u001b[0m\u001b[0;34m=\u001b[0m\u001b[0;34m\"Hefei\"\u001b[0m\u001b[0;34m,\u001b[0m\u001b[0mjob\u001b[0m\u001b[0;34m=\u001b[0m\u001b[0;34m\"male\"\u001b[0m\u001b[0;34m)\u001b[0m\u001b[0;34m\u001b[0m\u001b[0m\n\u001b[0m",
      "\u001b[0;31mTypeError\u001b[0m: info() got an unexpected keyword argument 'job'"
     ]
    }
   ],
   "source": [
    "info(\"Chenshuo\",\"25\",city=\"Hefei\",job=\"male\")"
   ]
  },
  {
   "cell_type": "markdown",
   "metadata": {},
   "source": [
    "## 可变参数\n",
    "有时我们可能需要一个函数能处理比当初声明时更多的参数。这些参数叫做可变参数或者叫不定长参数，顾名思义，可变参数就是传入的参数个数是可变的，可以是任意个，包括0个。和上述3种参数不同，声明时不会命名。\n",
    "我们以这样一个数学题目为例，我们要计算$ a^2+b^2+c^2+.....$的值，在这里传入的参数个数是不确定的，那么如何定义函数来实现这个计算呢，程序如下："
   ]
  },
  {
   "cell_type": "code",
   "execution_count": 35,
   "metadata": {},
   "outputs": [],
   "source": [
    "def square(*nums):\n",
    "    sum = 0\n",
    "    for i in nums:\n",
    "        sum = sum + i*i\n",
    "    return sum"
   ]
  },
  {
   "cell_type": "code",
   "execution_count": 36,
   "metadata": {},
   "outputs": [
    {
     "data": {
      "text/plain": [
       "14"
      ]
     },
     "execution_count": 36,
     "metadata": {},
     "output_type": "execute_result"
    }
   ],
   "source": [
    "square(1,2,3)"
   ]
  },
  {
   "cell_type": "markdown",
   "metadata": {},
   "source": [
    "**说明**：在函数名称nums前加*即可用来表示可变参数，由于传入的可变参数的个数是不确定的，在函数内部接收到的是由参数组成的元祖，所以在函数定义时，用for循环来遍历元祖中的每一个参数进行计算"
   ]
  },
  {
   "cell_type": "code",
   "execution_count": null,
   "metadata": {},
   "outputs": [],
   "source": []
  }
 ],
 "metadata": {
  "kernelspec": {
   "display_name": "Python 3",
   "language": "python",
   "name": "python3"
  },
  "language_info": {
   "codemirror_mode": {
    "name": "ipython",
    "version": 3
   },
   "file_extension": ".py",
   "mimetype": "text/x-python",
   "name": "python",
   "nbconvert_exporter": "python",
   "pygments_lexer": "ipython3",
   "version": "3.6.5"
  },
  "toc": {
   "base_numbering": 1,
   "nav_menu": {},
   "number_sections": true,
   "sideBar": true,
   "skip_h1_title": false,
   "title_cell": "Table of Contents",
   "title_sidebar": "Contents",
   "toc_cell": false,
   "toc_position": {},
   "toc_section_display": true,
   "toc_window_display": false
  },
  "varInspector": {
   "cols": {
    "lenName": 16,
    "lenType": 16,
    "lenVar": 40
   },
   "kernels_config": {
    "python": {
     "delete_cmd_postfix": "",
     "delete_cmd_prefix": "del ",
     "library": "var_list.py",
     "varRefreshCmd": "print(var_dic_list())"
    },
    "r": {
     "delete_cmd_postfix": ") ",
     "delete_cmd_prefix": "rm(",
     "library": "var_list.r",
     "varRefreshCmd": "cat(var_dic_list()) "
    }
   },
   "types_to_exclude": [
    "module",
    "function",
    "builtin_function_or_method",
    "instance",
    "_Feature"
   ],
   "window_display": false
  }
 },
 "nbformat": 4,
 "nbformat_minor": 2
}
