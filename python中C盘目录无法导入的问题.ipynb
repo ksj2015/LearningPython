{
 "cells": [
  {
   "cell_type": "markdown",
   "metadata": {},
   "source": [
    "# 以下为看某文件下有什么文件的命令，但是该命令无法实现，会报错\n",
    "这是因为“\\”这个符号在python中是一个转义符\n",
    "例如下面这个例子中"
   ]
  },
  {
   "cell_type": "markdown",
   "metadata": {},
   "source": [
    "import  os\n",
    "path='C:\\Users\\apple\\Desktop\\新建文件夹\\浙财PPT'\n",
    "dirs=os.listdir(path)\n",
    "for dir in dirs:\n",
    "    print (dir)"
   ]
  },
  {
   "cell_type": "markdown",
   "metadata": {},
   "source": [
    "这个是会报错滴"
   ]
  },
  {
   "cell_type": "markdown",
   "metadata": {},
   "source": [
    "正确的处理方法有两种：\n",
    "\n",
    "处理方法一:在这之前加一个r就好了，申明不转\n",
    "\n",
    "path=r'C:\\Users\\apple\\Desktop\\新建文件夹\\浙财PPT'\n",
    "\n",
    "处理方法二:把“\\”这个符号换成“/”也是可以的（强烈推荐第二种方法！！！）\n",
    "\n",
    "path='C:/Users/apple/Desktop\\新建文件夹\\浙财PPT'\n"
   ]
  },
  {
   "cell_type": "code",
   "execution_count": 2,
   "metadata": {},
   "outputs": [
    {
     "name": "stdout",
     "output_type": "stream",
     "text": [
      "PPT模板（一）常规.pptx\n",
      "PPT模板（三）常规.pptx\n",
      "PPT模板（二）常规.pptx\n",
      "PPT模板（四）常规.pptx\n",
      "官员激励与企业税负——来自断点回归的证据－白玉（浙财会议）.docx\n",
      "白玉浙财ppt.pptx\n"
     ]
    }
   ],
   "source": [
    "import  os\n",
    "path=r'C:\\Users\\apple\\Desktop\\新建文件夹\\浙财PPT'\n",
    "dirs=os.listdir(path)\n",
    "for dir in dirs:\n",
    "    print (dir)"
   ]
  },
  {
   "cell_type": "code",
   "execution_count": 3,
   "metadata": {},
   "outputs": [
    {
     "name": "stdout",
     "output_type": "stream",
     "text": [
      "PPT模板（一）常规.pptx\n",
      "PPT模板（三）常规.pptx\n",
      "PPT模板（二）常规.pptx\n",
      "PPT模板（四）常规.pptx\n",
      "官员激励与企业税负——来自断点回归的证据－白玉（浙财会议）.docx\n",
      "白玉浙财ppt.pptx\n"
     ]
    }
   ],
   "source": [
    "import  os\n",
    "path='C:/Users/apple/Desktop\\新建文件夹\\浙财PPT'\n",
    "dirs=os.listdir(path)\n",
    "for dir in dirs:\n",
    "    print (dir)"
   ]
  },
  {
   "cell_type": "code",
   "execution_count": null,
   "metadata": {},
   "outputs": [],
   "source": []
  }
 ],
 "metadata": {
  "kernelspec": {
   "display_name": "Python [conda env:Anaconda3]",
   "language": "python",
   "name": "conda-env-Anaconda3-py"
  },
  "language_info": {
   "codemirror_mode": {
    "name": "ipython",
    "version": 3
   },
   "file_extension": ".py",
   "mimetype": "text/x-python",
   "name": "python",
   "nbconvert_exporter": "python",
   "pygments_lexer": "ipython3",
   "version": "3.6.3"
  }
 },
 "nbformat": 4,
 "nbformat_minor": 2
}
