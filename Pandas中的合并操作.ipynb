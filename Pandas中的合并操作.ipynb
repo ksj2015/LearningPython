{
 "cells": [
  {
   "cell_type": "markdown",
   "metadata": {},
   "source": [
    "# Pandas中的合并操作"
   ]
  },
  {
   "cell_type": "markdown",
   "metadata": {},
   "source": [
    "## concat\n",
    "### 基本语句\n",
    "```\n",
    "pandas.concat(objs, axis=0, join='outer', join_axes=None, ignore_index=False, keys=None, levels=None, names=None, verify_integrity=False, sort=None, copy=True)\n",
    "```\n",
    "1. axis：{0/’index’, 1/’columns’}，代表需要合并的轴，0为纵向合并，1为横向合并\n",
    "2. join : {‘inner’, ‘outer’}，代表合并的方式，inner为只保留相同的\n",
    "3. join_axes :代表横向合并\n",
    "```\n",
    "join_axes=[df1.index]\n",
    "```\n",
    "4. ignore_index：boolean, default False，是否重新编index\n",
    "5. keys : 要在相接的时候在加上一个层次的key来识别数据源自于哪张表，可以增加key参数，例如当有三张表合并时，加入keys后，合并后的数据集就能知道那条数据来自原始的哪张表了\n",
    "```\n",
    "keys=['x', 'y', 'z']\n",
    "```\n",
    "6. names：指定合并后各列的名称"
   ]
  },
  {
   "cell_type": "markdown",
   "metadata": {},
   "source": [
    "### 来个例子"
   ]
  },
  {
   "cell_type": "code",
   "execution_count": 1,
   "metadata": {},
   "outputs": [],
   "source": [
    "import pandas as pd\n",
    "import numpy as np\n",
    "\n",
    "#定义资料集\n",
    "df1 = pd.DataFrame(np.ones((3,4))*0, columns=['a','b','c','d'])\n",
    "df2 = pd.DataFrame(np.ones((3,4))*1, columns=['a','b','c','d'])\n",
    "df3 = pd.DataFrame(np.ones((3,4))*2, columns=['a','b','c','d'])\n"
   ]
  },
  {
   "cell_type": "code",
   "execution_count": 3,
   "metadata": {},
   "outputs": [
    {
     "name": "stdout",
     "output_type": "stream",
     "text": [
      "     a    b    c    d\n",
      "0  0.0  0.0  0.0  0.0\n",
      "1  0.0  0.0  0.0  0.0\n",
      "2  0.0  0.0  0.0  0.0\n",
      "0  1.0  1.0  1.0  1.0\n",
      "1  1.0  1.0  1.0  1.0\n",
      "2  1.0  1.0  1.0  1.0\n",
      "0  2.0  2.0  2.0  2.0\n",
      "1  2.0  2.0  2.0  2.0\n",
      "2  2.0  2.0  2.0  2.0\n"
     ]
    }
   ],
   "source": [
    "#concat纵向合并\n",
    "res = pd.concat([df1, df2, df3], axis=0)\n",
    "print(res)"
   ]
  },
  {
   "cell_type": "code",
   "execution_count": 4,
   "metadata": {},
   "outputs": [
    {
     "name": "stdout",
     "output_type": "stream",
     "text": [
      "     a    b    c    d\n",
      "0  0.0  0.0  0.0  0.0\n",
      "1  0.0  0.0  0.0  0.0\n",
      "2  0.0  0.0  0.0  0.0\n",
      "3  1.0  1.0  1.0  1.0\n",
      "4  1.0  1.0  1.0  1.0\n",
      "5  1.0  1.0  1.0  1.0\n",
      "6  2.0  2.0  2.0  2.0\n",
      "7  2.0  2.0  2.0  2.0\n",
      "8  2.0  2.0  2.0  2.0\n"
     ]
    }
   ],
   "source": [
    "res = pd.concat([df1, df2, df3], axis=0, ignore_index=True)\n",
    "print(res)"
   ]
  },
  {
   "cell_type": "code",
   "execution_count": 6,
   "metadata": {},
   "outputs": [
    {
     "name": "stdout",
     "output_type": "stream",
     "text": [
      "     a    b    c    d    b    c    d    e\n",
      "1  0.0  0.0  0.0  0.0  NaN  NaN  NaN  NaN\n",
      "2  0.0  0.0  0.0  0.0  1.0  1.0  1.0  1.0\n",
      "3  0.0  0.0  0.0  0.0  1.0  1.0  1.0  1.0\n"
     ]
    }
   ],
   "source": [
    "import pandas as pd\n",
    "import numpy as np\n",
    "\n",
    "#定义资料集\n",
    "df1 = pd.DataFrame(np.ones((3,4))*0, columns=['a','b','c','d'], index=[1,2,3])\n",
    "df2 = pd.DataFrame(np.ones((3,4))*1, columns=['b','c','d','e'], index=[2,3,4])\n",
    "\n",
    "#依照`df1.index`进行横向合并\n",
    "res = pd.concat([df1, df2], axis=1, join_axes=[df1.index])\n",
    "print(res)"
   ]
  },
  {
   "cell_type": "code",
   "execution_count": 7,
   "metadata": {},
   "outputs": [
    {
     "name": "stdout",
     "output_type": "stream",
     "text": [
      "     a    b    c    d    b    c    d    e\n",
      "1  0.0  0.0  0.0  0.0  NaN  NaN  NaN  NaN\n",
      "2  0.0  0.0  0.0  0.0  1.0  1.0  1.0  1.0\n",
      "3  0.0  0.0  0.0  0.0  1.0  1.0  1.0  1.0\n",
      "4  NaN  NaN  NaN  NaN  1.0  1.0  1.0  1.0\n"
     ]
    }
   ],
   "source": [
    "res = pd.concat([df1, df2], axis=1)\n",
    "print(res)"
   ]
  },
  {
   "cell_type": "markdown",
   "metadata": {},
   "source": [
    "## append\n",
    "### 基本语句\n",
    "```\n",
    "DataFrame.append(other, ignore_index=False, verify_integrity=False, sort=None)\n",
    "```\n",
    "1. ignore_index：boolean, default False，是否重新编index\n",
    "2. sort : boolean, default None,用来指定是否每列元素都相同，如果不加会给出元素不同的警告标示\n"
   ]
  },
  {
   "cell_type": "markdown",
   "metadata": {},
   "source": [
    "### 举个例子"
   ]
  },
  {
   "cell_type": "code",
   "execution_count": 9,
   "metadata": {},
   "outputs": [],
   "source": [
    "df1 = pd.DataFrame(np.ones((3,4))*1, columns=['a','b','c','d'])\n",
    "df2 = pd.DataFrame(np.ones((3,4))*2, columns=['a','b','c','d'])\n",
    "df3 = pd.DataFrame(np.ones((3,4))*3, columns=['f','b','c','d'])"
   ]
  },
  {
   "cell_type": "code",
   "execution_count": 10,
   "metadata": {},
   "outputs": [
    {
     "name": "stdout",
     "output_type": "stream",
     "text": [
      "     a    b    c    d\n",
      "0  1.0  1.0  1.0  1.0\n",
      "1  1.0  1.0  1.0  1.0\n",
      "2  1.0  1.0  1.0  1.0\n",
      "3  2.0  2.0  2.0  2.0\n",
      "4  2.0  2.0  2.0  2.0\n",
      "5  2.0  2.0  2.0  2.0\n"
     ]
    }
   ],
   "source": [
    "res = df1.append(df2, ignore_index=True)\n",
    "print(res)"
   ]
  },
  {
   "cell_type": "code",
   "execution_count": 12,
   "metadata": {},
   "outputs": [
    {
     "name": "stdout",
     "output_type": "stream",
     "text": [
      "     a    b    c    d    f\n",
      "0  2.0  2.0  2.0  2.0  NaN\n",
      "1  2.0  2.0  2.0  2.0  NaN\n",
      "2  2.0  2.0  2.0  2.0  NaN\n",
      "3  NaN  3.0  3.0  3.0  3.0\n",
      "4  NaN  3.0  3.0  3.0  3.0\n",
      "5  NaN  3.0  3.0  3.0  3.0\n"
     ]
    }
   ],
   "source": [
    "res = df2.append(df3, ignore_index=True,sort =True)\n",
    "print(res)"
   ]
  },
  {
   "cell_type": "markdown",
   "metadata": {},
   "source": [
    "## append\n",
    "### 基本语句\n",
    "```\n",
    "DataFrame.merge(right, how='inner', on=None, left_on=None, right_on=None, left_index=False, right_index=False, sort=False, suffixes=('_x', '_y'), copy=True, indicator=False, validate=None)\n",
    "```\n",
    "1. **how** : {‘left’, ‘right’, ‘outer’, ‘inner’}, default ‘inner’\n",
    "合并的方式，四种含义见下面的例子\n",
    "2. on : label or list，用来指定按照什么变量进行合并\n",
    "3. left_on：指定左边按照什么变量进行合并\n",
    "4. right_on：指定右边按照什么变量进行合并\n",
    "5. left_index：将左侧的行索引用作其连接键 \n",
    "6. right_index：将右侧的行索引用作其连接键\n",
    "7. sort boolean：default False，根据连接键对合并后的数据进行排序，有时在处理大数据集时，禁用该选项可获得更好的性能\n",
    "8. suffixes：字符串值元组，用于追加到重叠列名的末尾，默认为\n",
    "（‘_x’,‘_y’）\n",
    "9. copy：boolean, default True，可以在某些特殊情况下将数据复制到结果数据结构中\n",
    "10. **indicator**：boolean or string, default False，可以获得数据来源的信息\n",
    "11. **validate** : string, default None\n",
    "\n",
    "    If specified, checks if merge is of specified type.\n",
    "\n",
    "        “one_to_one” or “1:1”: check if merge keys are unique in both left and right datasets.\n",
    "        “one_to_many” or “1:m”: check if merge keys are unique in left dataset.\n",
    "        “many_to_one” or “m:1”: check if merge keys are unique in right dataset.\n",
    "        “many_to_many” or “m:m”: allowed, but does not result in checks.\n",
    "\n",
    "    New in version 0.21.0.\n",
    "\n",
    "\n",
    "\n",
    "### 举个例子\n",
    "#### 例子1：how的用法展示"
   ]
  },
  {
   "cell_type": "code",
   "execution_count": 37,
   "metadata": {},
   "outputs": [
    {
     "name": "stdout",
     "output_type": "stream",
     "text": [
      "  key1 key2   A   B\n",
      "0   K0   K0  A0  B0\n",
      "1   K0   K1  A1  B1\n",
      "2   K1   K0  A2  B2\n",
      "3   K2   K1  A3  B3\n",
      "  key1 key2   C   D\n",
      "0   K0   K0  C0  D0\n",
      "1   K1   K0  C1  D1\n",
      "2   K1   K0  C2  D2\n",
      "3   K2   K0  C3  D3\n"
     ]
    }
   ],
   "source": [
    "#定义资料集并打印出\n",
    "left = pd.DataFrame({'key1': ['K0', 'K0', 'K1', 'K2'],\n",
    "                      'key2': ['K0', 'K1', 'K0', 'K1'],\n",
    "                      'A': ['A0', 'A1', 'A2', 'A3'],\n",
    "                      'B': ['B0', 'B1', 'B2', 'B3']})\n",
    "right = pd.DataFrame({'key1': ['K0', 'K1', 'K1', 'K2'],\n",
    "                       'key2': ['K0', 'K0', 'K0', 'K0'],\n",
    "                       'C': ['C0', 'C1', 'C2', 'C3'],\n",
    "                       'D': ['D0', 'D1', 'D2', 'D3']})\n",
    "print(left)\n",
    "print(right)"
   ]
  },
  {
   "cell_type": "code",
   "execution_count": 22,
   "metadata": {},
   "outputs": [
    {
     "name": "stdout",
     "output_type": "stream",
     "text": [
      "  key1 key2   A   B   C   D _merge\n",
      "0   K0   K0  A0  B0  C0  D0   both\n",
      "1   K1   K0  A2  B2  C1  D1   both\n",
      "2   K1   K0  A2  B2  C2  D2   both\n"
     ]
    }
   ],
   "source": [
    "#依据key1与key2 columns进行合并，并打印出四种结果['left', 'right', 'outer', 'inner']\n",
    "res = pd.merge(left, right, on=['key1', 'key2'], how='inner',indicator=True)\n",
    "print(res)"
   ]
  },
  {
   "cell_type": "code",
   "execution_count": 23,
   "metadata": {},
   "outputs": [
    {
     "name": "stdout",
     "output_type": "stream",
     "text": [
      "  key1 key2    A    B    C    D      _merge\n",
      "0   K0   K0   A0   B0   C0   D0        both\n",
      "1   K0   K1   A1   B1  NaN  NaN   left_only\n",
      "2   K1   K0   A2   B2   C1   D1        both\n",
      "3   K1   K0   A2   B2   C2   D2        both\n",
      "4   K2   K1   A3   B3  NaN  NaN   left_only\n",
      "5   K2   K0  NaN  NaN   C3   D3  right_only\n"
     ]
    }
   ],
   "source": [
    "res = pd.merge(left, right, on=['key1', 'key2'], how='outer',indicator=True)\n",
    "print(res)"
   ]
  },
  {
   "cell_type": "code",
   "execution_count": 24,
   "metadata": {},
   "outputs": [
    {
     "name": "stdout",
     "output_type": "stream",
     "text": [
      "  key1 key2   A   B    C    D     _merge\n",
      "0   K0   K0  A0  B0   C0   D0       both\n",
      "1   K0   K1  A1  B1  NaN  NaN  left_only\n",
      "2   K1   K0  A2  B2   C1   D1       both\n",
      "3   K1   K0  A2  B2   C2   D2       both\n",
      "4   K2   K1  A3  B3  NaN  NaN  left_only\n"
     ]
    }
   ],
   "source": [
    "res = pd.merge(left, right, on=['key1', 'key2'], how='left',indicator=True)\n",
    "print(res)"
   ]
  },
  {
   "cell_type": "code",
   "execution_count": 38,
   "metadata": {},
   "outputs": [
    {
     "name": "stdout",
     "output_type": "stream",
     "text": [
      "  key1 key2    A    B   C   D      _merge\n",
      "0   K0   K0   A0   B0  C0  D0        both\n",
      "1   K1   K0   A2   B2  C1  D1        both\n",
      "2   K1   K0   A2   B2  C2  D2        both\n",
      "3   K2   K0  NaN  NaN  C3  D3  right_only\n"
     ]
    }
   ],
   "source": [
    "res = pd.merge(left, right, on=['key1', 'key2'], how='right',indicator=True)\n",
    "print(res)"
   ]
  },
  {
   "cell_type": "code",
   "execution_count": 40,
   "metadata": {},
   "outputs": [
    {
     "name": "stdout",
     "output_type": "stream",
     "text": [
      "  key1_x key2_x    A    B key1_y key2_y    C    D      _merge\n",
      "0     K0     K0   A0   B0    NaN    NaN  NaN  NaN   left_only\n",
      "1     K0     K1   A1   B1    NaN    NaN  NaN  NaN   left_only\n",
      "2     K1     K0   A2   B2    NaN    NaN  NaN  NaN   left_only\n",
      "3     K2     K1   A3   B3    NaN    NaN  NaN  NaN   left_only\n",
      "4    NaN    NaN  NaN  NaN     K0     K0   C0   D0  right_only\n",
      "5    NaN    NaN  NaN  NaN     K1     K0   C1   D1  right_only\n",
      "6    NaN    NaN  NaN  NaN     K1     K0   C2   D2  right_only\n",
      "7    NaN    NaN  NaN  NaN     K2     K0   C3   D3  right_only\n"
     ]
    }
   ],
   "source": [
    "res = pd.merge(left, right, left_on='A',right_on='D', how='outer',indicator=True)\n",
    "print(res)"
   ]
  },
  {
   "cell_type": "code",
   "execution_count": 42,
   "metadata": {},
   "outputs": [
    {
     "name": "stdout",
     "output_type": "stream",
     "text": [
      "  key1 key2_x   A   B key2_y   C   D _merge\n",
      "0   K0     K0  A0  B0     K0  C0  D0   both\n",
      "1   K0     K1  A1  B1     K0  C0  D0   both\n",
      "2   K1     K0  A2  B2     K0  C1  D1   both\n",
      "3   K1     K0  A2  B2     K0  C2  D2   both\n",
      "4   K2     K1  A3  B3     K0  C3  D3   both\n"
     ]
    }
   ],
   "source": [
    "res = pd.merge(left, right, on=['key1'], how='outer',indicator=True,validate='m:m')\n",
    "print(res)"
   ]
  },
  {
   "cell_type": "markdown",
   "metadata": {},
   "source": [
    "#### 例子2：按照index合并用法的展示"
   ]
  },
  {
   "cell_type": "code",
   "execution_count": 26,
   "metadata": {},
   "outputs": [
    {
     "name": "stdout",
     "output_type": "stream",
     "text": [
      "     A   B\n",
      "K0  A0  B0\n",
      "K1  A1  B1\n",
      "K2  A2  B2\n",
      "     C   D\n",
      "K0  C0  D0\n",
      "K2  C2  D2\n",
      "K3  C3  D3\n"
     ]
    }
   ],
   "source": [
    "#定义资料集并打印出\n",
    "left = pd.DataFrame({'A': ['A0', 'A1', 'A2'],\n",
    "                     'B': ['B0', 'B1', 'B2']},\n",
    "                     index=['K0', 'K1', 'K2'])\n",
    "right = pd.DataFrame({'C': ['C0', 'C2', 'C3'],\n",
    "                      'D': ['D0', 'D2', 'D3']},\n",
    "                     index=['K0', 'K2', 'K3'])\n",
    "print(left)\n",
    "print(right)"
   ]
  },
  {
   "cell_type": "code",
   "execution_count": 34,
   "metadata": {},
   "outputs": [
    {
     "name": "stdout",
     "output_type": "stream",
     "text": [
      "      A    B    C    D      _merge\n",
      "K0   A0   B0   C0   D0        both\n",
      "K1   A1   B1  NaN  NaN   left_only\n",
      "K2   A2   B2   C2   D2        both\n",
      "K3  NaN  NaN   C3   D3  right_only\n"
     ]
    }
   ],
   "source": [
    "#依据左右资料集的index进行合并，how='outer',并打印出\n",
    "res = pd.merge(left, right, left_index=True, right_index=True, how='outer',indicator=True)\n",
    "print(res)"
   ]
  },
  {
   "cell_type": "code",
   "execution_count": null,
   "metadata": {},
   "outputs": [],
   "source": []
  }
 ],
 "metadata": {
  "kernelspec": {
   "display_name": "Python [default]",
   "language": "python",
   "name": "python3"
  },
  "language_info": {
   "codemirror_mode": {
    "name": "ipython",
    "version": 3
   },
   "file_extension": ".py",
   "mimetype": "text/x-python",
   "name": "python",
   "nbconvert_exporter": "python",
   "pygments_lexer": "ipython3",
   "version": "3.6.3"
  }
 },
 "nbformat": 4,
 "nbformat_minor": 2
}
